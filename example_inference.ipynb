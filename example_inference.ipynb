{
 "cells": [
  {
   "cell_type": "code",
   "execution_count": 35,
   "metadata": {},
   "outputs": [],
   "source": [
    "import sys\n",
    "import os\n",
    "import argparse\n",
    "import matplotlib.pyplot as plt\n",
    "import math\n",
    "import numpy as np\n",
    "from itertools import product\n",
    "from scipy.stats import binom\n",
    "sys.path.append(os.path.abspath('./lib'))\n",
    "from bcemetricspy import bce_lp, utils\n",
    "\n",
    "parser = argparse.ArgumentParser(description=\"Robust identification in auctions!\")\n",
    "parser.add_argument(\"--num_bidders\", dest=\"num_bidders\", type=int, help='Number of bidders', default=2)\n",
    "parser.add_argument(\"--max_value\", dest=\"max_value\", type=int, help='Support of values {0,1,2,...,max_value}', default=20)\n",
    "parser.add_argument(\"--bce_max_support\", dest=\"bce_max_support\", type=int, help='Upper bound on BCE support size', default=100)\n",
    "parser.add_argument(\"--max_trials\", dest=\"max_trials\", type=int, help='Maximum trials for BCE computation', default=20)\n",
    "parser.add_argument(\"--random_seed\", dest=\"random_seed\", type=int, help='Random seed', default=1234)\n",
    "parser.add_argument(\"--tolerance\", dest=\"tolerance\", type=float, help='Tolerance in best response constraints', default=0.0001)\n",
    "parser.add_argument(\"--value_pdf_type\", dest=\"value_pdf_type\", \n",
    "                    type=str, help='Value distribution: {binom, uniform, random}', default='binom')\n",
    "opts = parser.parse_args(\"\")\n",
    "\n",
    "num_bidders = opts.num_bidders\n",
    "max_value = opts.max_value"
   ]
  },
  {
   "cell_type": "code",
   "execution_count": 36,
   "metadata": {},
   "outputs": [
    {
     "data": {
      "image/png": "[encoded data removed]",
      "text/plain": [
       "<matplotlib.figure.Figure at 0x11847afd0>"
      ]
     },
     "metadata": {},
     "output_type": "display_data"
    }
   ],
   "source": [
    "# Common value distribution\n",
    "value_pdf = {\n",
    "    'binom': np.ndarray.flatten(\n",
    "        binom(n=max_value, p=.5).pmf([list(range(0, max_value + 1))])),\n",
    "    'random': np.ndarray.flatten(np.abs(np.random.standard_normal(max_value + 1))),\n",
    "    'uniform': np.ones(max_value + 1)\n",
    "}.get(opts.value_pdf_type, np.abs(np.ndarray.flatten(np.random.standard_normal(max_value + 1))))\n",
    "value_pdf = value_pdf / np.sum(value_pdf)\n",
    "\n",
    "plt.plot(value_pdf)\n",
    "plt.title(\"PDF of distribution of common value\")\n",
    "plt.show()"
   ]
  },
  {
   "cell_type": "markdown",
   "metadata": {},
   "source": [
    "# 1. Computing a BCE\n",
    "We first compute a BCE for the given value distribution $\\pi$. This is done by solving the following LP for $\\phi$:\n",
    "\n",
    "\\begin{align}\n",
    "& \\forall b_i^*,b_i'\\in B: & & \\sum_{v\\in V, {\\bf b}\\in B^n: b_i = b_i^*} \\pi(v) \\cdot x({\\bf b} | v)\\cdot \\left(u_i({\\bf b};v)-u_i(b_i',{\\bf b}_{-i};v)\\right) \\geq 0\\\\\n",
    "& \\forall {\\bf b}\\in B^n: & & \\phi({\\bf b}) = \\sum_{v\\in V} \\pi(v)\\cdot x({\\bf b}|v)\\\\\n",
    "& \\forall v\\in V:& & x(\\cdot|v) \\in \\Delta(B^n)\n",
    "\\end{align}\n",
    "\n",
    "Apart from these constraints we will attempt to compute a BCE supported on a small subset of the bid vectors to decrease computation. This is based on the num_samples parameter."
   ]
  },
  {
   "cell_type": "code",
   "execution_count": 37,
   "metadata": {},
   "outputs": [],
   "source": [
    "# Compute an observed bid distribution from some BCE\n",
    "bid_pdf = bce_lp.compute_bce(num_bidders, max_value,\n",
    "                             value_pdf, num_samples=opts.bce_max_support,\n",
    "                             max_trials=opts.max_trials, random_seed=opts.random_seed)"
   ]
  },
  {
   "cell_type": "code",
   "execution_count": 38,
   "metadata": {},
   "outputs": [
    {
     "data": {
      "image/png": "[encoded data removed]",
      "text/plain": [
       "<matplotlib.figure.Figure at 0x117189400>"
      ]
     },
     "metadata": {},
     "output_type": "display_data"
    }
   ],
   "source": [
    "# Plot PDF of joint bid distribution\n",
    "plt.figure()\n",
    "joint_bid_dist = np.zeros((max_value + 1, max_value + 1))\n",
    "for key in bid_pdf.keys():\n",
    "    joint_bid_dist[int(key[0])][int(key[1])] = bid_pdf[key]\n",
    "plt.imshow(joint_bid_dist, extent=(0, max_value, max_value, 0), interpolation='nearest')\n",
    "plt.colorbar()\n",
    "plt.xlabel(\"Bidder 2\")\n",
    "plt.ylabel(\"Bidder 1\")\n",
    "plt.title(\"PDF of Joint BCE Bid Distribution\")\n",
    "plt.show()"
   ]
  },
  {
   "cell_type": "markdown",
   "metadata": {},
   "source": [
    "# 2. Non-Parametric Sharp Identified Set on Moments\n",
    "\n",
    "We now compute the upper and lower bound on the first two moments of the common value distribution, given that we observe the BCE distribution of bids. These functions solve two linear programs of the form:\n",
    "\n",
    "\\begin{align}\n",
    "& & \\min/\\max_{\\pi} \\sum_{v\\in V} \\pi(v) \\cdot m(v) & \\\\\n",
    "& \\forall b_i^*,b_i'\\in B:& & \\sum_{v\\in V, {\\bf b}\\in S: b_i = b_i^*} \\phi({\\bf b}) \\cdot x(v | {\\bf b})\\cdot \\left(u_i\\left({\\bf b};v\\right)-u_i(b_i', {\\bf b}_{-i};v)\\right) \\geq 0\\\\\n",
    "& \\forall v\\in V:& & \\pi(v) = \\sum_{{\\bf b}\\in S} \\phi({\\bf b})\\cdot x(v|{\\bf b})\\\\\n",
    "& \\forall {\\bf b}\\in S:& & x(\\cdot | {\\bf b}) \\in \\Delta(V)\n",
    "\\end{align}\n",
    "\n",
    "We also compute below loose upper and lower bounds on the mean. The upper bound is based on the work of Bergemann et al 2017 and the lower bound is simply the revenue of the observed BCE. "
   ]
  },
  {
   "cell_type": "code",
   "execution_count": 5,
   "metadata": {},
   "outputs": [
    {
     "name": "stderr",
     "output_type": "stream",
     "text": [
      "/anaconda/lib/python3.6/site-packages/PuLP-1.6.8-py3.6.egg/pulp/pulp.py:1348: UserWarning: Overwriting previously set objective.\n",
      "  warnings.warn(\"Overwriting previously set objective.\")\n",
      "/anaconda/lib/python3.6/site-packages/PuLP-1.6.8-py3.6.egg/pulp/pulp.py:1348: UserWarning: Overwriting previously set objective.\n",
      "  warnings.warn(\"Overwriting previously set objective.\")\n"
     ]
    }
   ],
   "source": [
    "# Compute a sharp identified set on the mean and second moment\n",
    "non_param_lb_mean, non_param_ub_mean = bce_lp.inverse_bce(\n",
    "    num_bidders, max_value, bid_pdf, utils.first_moment, tolerance=opts.tolerance)\n",
    "\n",
    "non_param_lb_var, non_param_ub_var = bce_lp.inverse_bce(\n",
    "    num_bidders, max_value, bid_pdf, utils.second_moment)"
   ]
  },
  {
   "cell_type": "code",
   "execution_count": 6,
   "metadata": {},
   "outputs": [
    {
     "data": {
      "text/markdown": [
       "#### NON-PARAMETRIC IDENTIFICATION RESULTS"
      ],
      "text/plain": [
       "<IPython.core.display.Markdown object>"
      ]
     },
     "metadata": {},
     "output_type": "display_data"
    },
    {
     "data": {
      "text/markdown": [
       "- Interval on mean: (8.7191, 10.602). True value of mean: 10.0"
      ],
      "text/plain": [
       "<IPython.core.display.Markdown object>"
      ]
     },
     "metadata": {},
     "output_type": "display_data"
    },
    {
     "data": {
      "text/markdown": [
       "- Interval on second moment: (83.75, 212.03). True second moment: 105.0"
      ],
      "text/plain": [
       "<IPython.core.display.Markdown object>"
      ]
     },
     "metadata": {},
     "output_type": "display_data"
    },
    {
     "data": {
      "text/markdown": [
       "- Inferred Standard deviation: (0.0,11.662). True standard deviation: 2.2361"
      ],
      "text/plain": [
       "<IPython.core.display.Markdown object>"
      ]
     },
     "metadata": {},
     "output_type": "display_data"
    },
    {
     "data": {
      "text/markdown": [
       "- Revenue of BCE (lower bound on mean): 8.63"
      ],
      "text/plain": [
       "<IPython.core.display.Markdown object>"
      ]
     },
     "metadata": {},
     "output_type": "display_data"
    },
    {
     "data": {
      "text/markdown": [
       "- BBM upper bound on mean: 17.645"
      ],
      "text/plain": [
       "<IPython.core.display.Markdown object>"
      ]
     },
     "metadata": {},
     "output_type": "display_data"
    }
   ],
   "source": [
    "# Print results\n",
    "true_mean = np.dot(value_pdf, [utils.first_moment(v) for v in range(max_value + 1)])\n",
    "true_var = np.dot(value_pdf, [utils.second_moment(v) for v in range(max_value + 1)])\n",
    "revenue = sum([max(bids) * bid_pdf[bids] for bids in bid_pdf])\n",
    "easy_bound = utils.brooks_bound(num_bidders, max_value, bid_pdf)\n",
    "\n",
    "from IPython.display import display, Markdown, Latex\n",
    "display(Markdown('#### NON-PARAMETRIC IDENTIFICATION RESULTS'))\n",
    "display(Markdown(\"- Interval on mean: ({:.5}, {:.5}). True value of mean: {:.5}\"\n",
    "                 .format(non_param_lb_mean, non_param_ub_mean, true_mean)))\n",
    "display(Markdown(\"- Interval on second moment: ({:.5}, {:.5}). True second moment: {:.5}\"\n",
    "                 .format(non_param_lb_var, non_param_ub_var, true_var)))\n",
    "display(Markdown(\"- Inferred Standard deviation: ({:.5},{:.5}). True standard deviation: {:.5}\".format(\n",
    "    math.sqrt(max([non_param_lb_var - non_param_ub_mean**2, 0])),\n",
    "    math.sqrt(non_param_ub_var - non_param_lb_mean**2),\n",
    "    math.sqrt(true_var - true_mean**2))))\n",
    "display(Markdown(\"- Revenue of BCE (lower bound on mean): {:.3}\".format(revenue)))\n",
    "display(Markdown(\"- BBM upper bound on mean: {:.5}\".format(easy_bound)))"
   ]
  },
  {
   "cell_type": "markdown",
   "metadata": {},
   "source": [
    "# 3. Parametric Identified Set\n",
    "\n",
    "We now assume that the value distribution follows a parametric form. For simplicity here we consider a binomial distribution $B(n,p)$ with a known $n$, but unknown $p$. The parameter is then simply $p$. We construct the parametric identified set by going over a grid of this parameter and checking feasibility of the LP:\n",
    "\n",
    "\\begin{align}\n",
    "& \\forall b_i^*,b_i'\\in B:& & \\sum_{v\\in V, {\\bf b}\\in S: b_i = b_i^*} \\phi({\\bf b}) \\cdot x(v | {\\bf b})\\cdot \\left(u_i\\left({\\bf b};v\\right)-u_i(b_i', {\\bf b}_{-i};v)\\right) \\geq 0\\\\\n",
    "& \\forall v\\in V:& & \\pi(v; p) = \\sum_{{\\bf b}\\in S} \\phi({\\bf b})\\cdot x(v | {\\bf b})\\\\\n",
    "& \\forall {\\bf b}\\in S:& & x(\\cdot | {\\bf b}) \\in \\Delta(V)\n",
    "\\end{align}\n",
    "\n",
    "where now the only free variables are the $x$, since $\\pi(v;p)$ is determined by the parametric form. In fact, instead of checking feasibility, we instead compute the minimum violation of the constraints, i.e. the minimum $\\tau$ such that all constraints are violated by at most $\\tau$. We can then use this minimum violation for computing uncertainty sets for finite sample inference."
   ]
  },
  {
   "cell_type": "markdown",
   "metadata": {},
   "source": [
    "### 3.1 Capped-Normal Parametric Form"
   ]
  },
  {
   "cell_type": "code",
   "execution_count": 7,
   "metadata": {},
   "outputs": [],
   "source": [
    "# Parametric sharp identified set under a capped-normal parametric form\n",
    "def normal_cdf(mu, sigma):\n",
    "    density = np.array([np.exp(-(v - mu)**2 / (2 * sigma**2)) for v in range(max_value + 1)])\n",
    "    density = density / np.sum(density)\n",
    "    return density\n",
    "\n",
    "# Grid of mu and sigma\n",
    "mu_grid = np.arange(1, opts.max_value, 1)\n",
    "sigma_grid = np.arange(1, opts.max_value, 1)\n",
    "# Matrix of minimum constraint violations\n",
    "tol_matrix = np.zeros((len(mu_grid), len(sigma_grid)))\n",
    "# Go over grid\n",
    "for i, j in product(*[range(len(mu_grid)), range(len(sigma_grid))]):\n",
    "    # Solve parametric LP for these pararameters\n",
    "    tol_matrix[i, j] = bce_lp.inverse_bce_parameterized_sparse_min_tolerance(\n",
    "            num_bidders, max_value, bid_pdf, utils.first_moment, normal_cdf(mu_grid[i], sigma_grid[j]), solver_str='COIN')"
   ]
  },
  {
   "cell_type": "code",
   "execution_count": 8,
   "metadata": {},
   "outputs": [
    {
     "data": {
      "image/png": "[encoded data removed]",
      "text/plain": [
       "<matplotlib.figure.Figure at 0x117038e80>"
      ]
     },
     "metadata": {},
     "output_type": "display_data"
    }
   ],
   "source": [
    "# Plot the identified set of mu,sigma\n",
    "plt.figure(figsize=(20,5))\n",
    "plt.subplot(1,3,1)\n",
    "plt.imshow(tol_matrix, extent=(np.min(sigma_grid), np.max(sigma_grid), np.max(mu_grid), np.min(mu_grid)), interpolation='nearest')\n",
    "plt.colorbar()\n",
    "plt.xlabel(\"Sigma\")\n",
    "plt.ylabel(\"Mu\")\n",
    "plt.title(\"Violation of LP constraints for each parameter\")\n",
    "plt.subplot(1,3,2)\n",
    "plt.imshow(tol_matrix==0, extent=(np.min(sigma_grid), np.max(sigma_grid), np.max(mu_grid), np.min(mu_grid)), interpolation='nearest')\n",
    "plt.colorbar()\n",
    "plt.xlabel(\"Sigma\")\n",
    "plt.ylabel(\"Mu\")\n",
    "plt.title(\"Identified set: set of parameters with zero violation\")\n",
    "plt.show()"
   ]
  },
  {
   "cell_type": "code",
   "execution_count": 9,
   "metadata": {},
   "outputs": [
    {
     "data": {
      "text/markdown": [
       "#### PARAMETRIC IDENTIFICATION RESULTS"
      ],
      "text/plain": [
       "<IPython.core.display.Markdown object>"
      ]
     },
     "metadata": {},
     "output_type": "display_data"
    },
    {
     "data": {
      "text/markdown": [
       "- Parametric-Based Interval on mean: (8.7465, 10.595).                 True value of mean: 10.0"
      ],
      "text/plain": [
       "<IPython.core.display.Markdown object>"
      ]
     },
     "metadata": {},
     "output_type": "display_data"
    }
   ],
   "source": [
    "# Compute upper and lower bounds on the mean based on the parametric identified set\n",
    "parametric_lb_mean = 10**6\n",
    "parametric_ub_mean = 0\n",
    "for i, j in product(*[range(len(mu_grid)), range(len(sigma_grid))]):\n",
    "    if  tol_matrix[i][j] <= 0:\n",
    "        mean = np.dot(normal_cdf(mu_grid[i], sigma_grid[j]), np.arange(max_value+1))\n",
    "        if mean <= parametric_lb_mean:\n",
    "            parametric_lb_mean = mean\n",
    "        if mean >= parametric_ub_mean:\n",
    "            parametric_ub_mean = mean\n",
    "\n",
    "from IPython.display import display, Markdown, Latex\n",
    "display(Markdown('#### PARAMETRIC IDENTIFICATION RESULTS'))\n",
    "display(Markdown(\"- Parametric-Based Interval on mean: ({:.5}, {:.5}).\\\n",
    "                 True value of mean: {:.5}\".format(parametric_lb_mean, parametric_ub_mean, true_mean)))"
   ]
  },
  {
   "cell_type": "markdown",
   "metadata": {},
   "source": [
    "### 3.2 Binomial Parametric Form"
   ]
  },
  {
   "cell_type": "code",
   "execution_count": 10,
   "metadata": {},
   "outputs": [
    {
     "data": {
      "text/markdown": [
       "#### PARAMETRIC IDENTIFICATION RESULTS"
      ],
      "text/plain": [
       "<IPython.core.display.Markdown object>"
      ]
     },
     "metadata": {},
     "output_type": "display_data"
    },
    {
     "data": {
      "text/markdown": [
       "- Parametric-Based Interval on mean: (10.0, 10.2).                 True value of mean: 10.0"
      ],
      "text/plain": [
       "<IPython.core.display.Markdown object>"
      ]
     },
     "metadata": {},
     "output_type": "display_data"
    }
   ],
   "source": [
    "# Parametric sharp identified set under a binomial parametric form\n",
    "def parametric_cdf(param):\n",
    "    density = np.ndarray.flatten(binom(n=max_value, p=param).pmf([list(range(0, max_value + 1))]))\n",
    "    density = density / np.sum(density)\n",
    "    return density\n",
    "\n",
    "# Grid of p\n",
    "param_grid = np.arange(0.1, 1, 0.01)\n",
    "# Matrix of minimum constraint violations\n",
    "tol_matrix = np.zeros(len(param_grid))\n",
    "# Go over grid\n",
    "parametric_lb_mean = 10**6\n",
    "parametric_ub_mean = 0\n",
    "for i in range(len(param_grid)):\n",
    "    # Solve parametric LP for these pararameters\n",
    "    tol_matrix[i] = bce_lp.inverse_bce_parameterized_sparse_min_tolerance(\n",
    "            num_bidders, max_value, bid_pdf, utils.first_moment, parametric_cdf(param_grid[i]), solver_str='COIN')\n",
    "    if tol_matrix[i] <= 0:\n",
    "        mean = np.dot(parametric_cdf(param_grid[i]), np.arange(max_value+1))\n",
    "        if mean <= parametric_lb_mean:\n",
    "            parametric_lb_mean = mean\n",
    "        if mean >= parametric_ub_mean:\n",
    "            parametric_ub_mean = mean\n",
    "\n",
    "\n",
    "from IPython.display import display, Markdown, Latex\n",
    "display(Markdown('#### PARAMETRIC IDENTIFICATION RESULTS'))\n",
    "display(Markdown(\"- Parametric-Based Interval on mean: ({:.5}, {:.5}).\\\n",
    "                 True value of mean: {:.5}\".format(parametric_lb_mean, parametric_ub_mean, true_mean)))"
   ]
  },
  {
   "cell_type": "code",
   "execution_count": 16,
   "metadata": {},
   "outputs": [
    {
     "data": {
      "image/png": "[encoded data removed]",
      "text/plain": [
       "<matplotlib.figure.Figure at 0x11716d668>"
      ]
     },
     "metadata": {},
     "output_type": "display_data"
    }
   ],
   "source": [
    "# Plot the identified set of mu,sigma\n",
    "plt.figure(figsize=(20,5))\n",
    "plt.rc('text', usetex=False)\n",
    "plt.subplot(1,3,1)\n",
    "plt.imshow(tol_matrix.reshape(1,-1), extent=(np.min(param_grid), np.max(param_grid), 0, .1), interpolation='nearest')\n",
    "plt.colorbar()\n",
    "plt.xlabel(r\"p\")\n",
    "plt.gca().axes.get_yaxis().set_visible(False)\n",
    "plt.title(\"Violation of constraints for each parameter\")\n",
    "plt.subplot(1,3,2)\n",
    "plt.rc('text', usetex=False)\n",
    "plt.imshow(tol_matrix.reshape(1,-1)==0,  extent=(np.min(param_grid), np.max(param_grid), 0, .1), interpolation='nearest')\n",
    "plt.xlabel(\"p\")\n",
    "plt.title(\"Identified set: set of parameters with zero violation\")\n",
    "plt.gca().axes.get_yaxis().set_visible(False)\n",
    "plt.show()"
   ]
  },
  {
   "cell_type": "markdown",
   "metadata": {},
   "source": [
    "# 4. Inference from Samples and Confidence Intervals with Subsampling\n",
    "\n",
    "Now we turn to inference and see what we can recover when instead of observing the true BCE distribution we instead observe a sample of bids drawn from the BCE distribution. We will restrict attention to parametric inference with a Binomial parametric form (i.e. correctly specified parametric form) mostly for low computational burden of this expository example.\n",
    "\n",
    "Our approach would be to do sub-sampling. Which is as follows:\n",
    "* We compute the minimum violation of the LP for each parameter on the whole sample\n",
    "* Let S be the parameter set with minimum violation\n",
    "* Then we draw k sub-samples of $\\alpha\\%$ of the size of the full sample\n",
    "* For each sub-sample: We compute the minimum violation matrix for all parameters\n",
    "* Then we compute the $q$ percentile of the minimum violation across these sub-samples for the parameters in S\n",
    "* Subsequently we go to the original minimum violation matrix for the whole sample and include in the set all parameters whose violation was smaller than this computed $q$ quantile\n",
    "* Ideally we repeat until convergence, but here will do it only once"
   ]
  },
  {
   "cell_type": "code",
   "execution_count": 213,
   "metadata": {},
   "outputs": [],
   "source": [
    "# Parameters of simulation\n",
    "n_samples = 30\n",
    "n_sub_samples = 100\n",
    "frac_sub_sample = .5\n",
    "quantile = 90\n",
    "sple_size = np.ceil(frac_sub_sample*n_samples).astype(int)"
   ]
  },
  {
   "cell_type": "code",
   "execution_count": 214,
   "metadata": {
    "collapsed": true
   },
   "outputs": [],
   "source": [
    "# Generate sampled bid pdf and sampled bid population\n",
    "sampled_counts = np.random.multinomial(n_samples, list(bid_pdf.values()))\n",
    "sampled_bids = []\n",
    "sampled_bid_pdf = {}\n",
    "for index, keys in enumerate(bid_pdf):\n",
    "    sampled_bids.extend([keys for i in range(sampled_counts[index])])\n",
    "    sampled_bid_pdf[keys] = sampled_counts[index]/n_samples"
   ]
  },
  {
   "cell_type": "code",
   "execution_count": 215,
   "metadata": {},
   "outputs": [],
   "source": [
    "# Generate sub-sampled bid pdfs\n",
    "sub_sampled_bid_pdfs = []\n",
    "for t in range(n_sub_samples):\n",
    "    sub_sampled_bids = np.random.choice(range(len(sampled_bids)), sple_size, replace=False)\n",
    "    sub_sampled_bid_pdf = {}\n",
    "    for i in sub_sampled_bids:\n",
    "        if sampled_bids[i] in sub_sampled_bid_pdf:\n",
    "            sub_sampled_bid_pdf[sampled_bids[i]] += 1/sple_size\n",
    "        else:\n",
    "            sub_sampled_bid_pdf[sampled_bids[i]] = 1/sple_size\n",
    "    sub_sampled_bid_pdfs.append(sub_sampled_bid_pdf)"
   ]
  },
  {
   "cell_type": "code",
   "execution_count": 216,
   "metadata": {},
   "outputs": [],
   "source": [
    "# Parametric form and parameter set\n",
    "def parametric_cdf(param):\n",
    "    density = np.ndarray.flatten(binom(n=max_value, p=param).pmf([list(range(0, max_value + 1))]))\n",
    "    density = density / np.sum(density)\n",
    "    return density\n",
    "\n",
    "# Grid of p\n",
    "param_grid = np.arange(0.1, 1, 0.01)"
   ]
  },
  {
   "cell_type": "code",
   "execution_count": 217,
   "metadata": {},
   "outputs": [
    {
     "data": {
      "image/png": "[encoded data removed]",
      "text/plain": [
       "<matplotlib.figure.Figure at 0x1184476d8>"
      ]
     },
     "metadata": {},
     "output_type": "display_data"
    }
   ],
   "source": [
    "# Compute set of parameters S in minimum LP violation set\n",
    "tol_matrix = np.zeros(len(param_grid))\n",
    "# Go over grid\n",
    "parametric_lb_mean = 10**6\n",
    "parametric_ub_mean = 0\n",
    "for i in range(len(param_grid)):\n",
    "    # Solve parametric LP for these pararameters\n",
    "    tol_matrix[i] = bce_lp.inverse_bce_parameterized_sparse_min_tolerance(\n",
    "            num_bidders, max_value, sampled_bid_pdf, utils.first_moment, parametric_cdf(param_grid[i]), solver_str='COIN')\n",
    "\n",
    "s_params = param_grid[tol_matrix==np.amin(tol_matrix)]\n",
    "\n",
    "# Plot the identified set of mu,sigma\n",
    "plt.figure(figsize=(20,5))\n",
    "plt.rc('text', usetex=False)\n",
    "plt.subplot(1,3,1)\n",
    "plt.imshow(tol_matrix.reshape(1,-1), extent=(np.min(param_grid), np.max(param_grid), 0, .1), interpolation='nearest')\n",
    "plt.colorbar()\n",
    "plt.xlabel(r\"p\")\n",
    "plt.gca().axes.get_yaxis().set_visible(False)\n",
    "plt.title(\"Violation of constraints on full sample\")\n",
    "plt.subplot(1,3,2)\n",
    "plt.rc('text', usetex=False)\n",
    "plt.imshow(tol_matrix.reshape(1,-1) <= np.amin(tol_matrix),  extent=(np.min(param_grid), np.max(param_grid), 0, .1), interpolation='nearest')\n",
    "plt.xlabel(\"p\")\n",
    "plt.title(\"Set $S$ of parameters with minimum violation on full sample\")\n",
    "plt.gca().axes.get_yaxis().set_visible(False)\n",
    "plt.show()"
   ]
  },
  {
   "cell_type": "code",
   "execution_count": 218,
   "metadata": {},
   "outputs": [
    {
     "name": "stdout",
     "output_type": "stream",
     "text": [
      "90% percentile of violations in S: 0.036329175\n"
     ]
    }
   ],
   "source": [
    "# Compute the tolerances for each param in S and for each sub-sample and compute 90% percentile\n",
    "s_violations = []\n",
    "for sub_sampled_bid_pdf, param in product(sub_sampled_bid_pdfs, s_params):\n",
    "    s_violations.append(bce_lp.inverse_bce_parameterized_sparse_min_tolerance(\n",
    "            num_bidders, max_value, sub_sampled_bid_pdf, utils.first_moment, parametric_cdf(param), solver_str='COIN'))\n",
    "\n",
    "tolerance = np.percentile(s_violations, quantile)\n",
    "print(\"{}% percentile of violations in S: {}\".format(quantile, tolerance))"
   ]
  },
  {
   "cell_type": "code",
   "execution_count": 219,
   "metadata": {},
   "outputs": [
    {
     "data": {
      "text/markdown": [
       "#### PARAMETRIC IDENTIFICATION RESULTS"
      ],
      "text/plain": [
       "<IPython.core.display.Markdown object>"
      ]
     },
     "metadata": {},
     "output_type": "display_data"
    },
    {
     "data": {
      "text/markdown": [
       "- Parametric-Based Interval on mean: (9.2, 10.8).                 True value of mean: 10.0"
      ],
      "text/plain": [
       "<IPython.core.display.Markdown object>"
      ]
     },
     "metadata": {},
     "output_type": "display_data"
    }
   ],
   "source": [
    "for i in range(len(param_grid)):\n",
    "    if tol_matrix[i] <= tolerance:\n",
    "        mean = np.dot(parametric_cdf(param_grid[i]), np.arange(max_value+1))\n",
    "        if mean <= parametric_lb_mean:\n",
    "            parametric_lb_mean = mean\n",
    "        if mean >= parametric_ub_mean:\n",
    "            parametric_ub_mean = mean\n",
    "\n",
    "\n",
    "from IPython.display import display, Markdown, Latex\n",
    "display(Markdown('#### PARAMETRIC IDENTIFICATION RESULTS'))\n",
    "display(Markdown(\"- Parametric-Based Interval on mean: ({:.5}, {:.5}).\\\n",
    "                 True value of mean: {:.5}\".format(parametric_lb_mean, parametric_ub_mean, true_mean)))"
   ]
  },
  {
   "cell_type": "code",
   "execution_count": 220,
   "metadata": {},
   "outputs": [
    {
     "data": {
      "image/png": "[encoded data removed]",
      "text/plain": [
       "<matplotlib.figure.Figure at 0x116faa588>"
      ]
     },
     "metadata": {},
     "output_type": "display_data"
    }
   ],
   "source": [
    "# Plot the identified set of mu,sigma\n",
    "plt.figure(figsize=(20,5))\n",
    "plt.rc('text', usetex=False)\n",
    "plt.subplot(1,3,1)\n",
    "plt.imshow(tol_matrix.reshape(1,-1), extent=(np.min(param_grid), np.max(param_grid), 0, .1), interpolation='nearest')\n",
    "plt.colorbar()\n",
    "plt.xlabel(r\"p\")\n",
    "plt.gca().axes.get_yaxis().set_visible(False)\n",
    "plt.title(\"Violation of constraints on full sample\")\n",
    "plt.subplot(1,3,2)\n",
    "plt.rc('text', usetex=False)\n",
    "plt.imshow(tol_matrix.reshape(1,-1) <= tolerance,  extent=(np.min(param_grid), np.max(param_grid), 0, .1), interpolation='nearest')\n",
    "plt.xlabel(\"p\")\n",
    "plt.title(\"{}% Confidence Identified set\".format(quantile))\n",
    "plt.gca().axes.get_yaxis().set_visible(False)\n",
    "plt.show()"
   ]
  },
  {
   "cell_type": "code",
   "execution_count": null,
   "metadata": {
    "collapsed": true
   },
   "outputs": [],
   "source": []
  }
 ],
 "metadata": {
  "kernelspec": {
   "display_name": "Python 3",
   "language": "python",
   "name": "python3"
  },
  "language_info": {
   "codemirror_mode": {
    "name": "ipython",
    "version": 3
   },
   "file_extension": ".py",
   "mimetype": "text/x-python",
   "name": "python",
   "nbconvert_exporter": "python",
   "pygments_lexer": "ipython3",
   "version": "3.6.1"
  }
 },
 "nbformat": 4,
 "nbformat_minor": 2
}
