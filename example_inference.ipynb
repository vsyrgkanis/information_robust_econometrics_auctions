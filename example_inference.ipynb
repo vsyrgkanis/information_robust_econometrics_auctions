{
 "cells": [
  {
   "cell_type": "code",
   "execution_count": 129,
   "metadata": {
    "collapsed": false
   },
   "outputs": [],
   "source": [
    "import sys\n",
    "import os\n",
    "import argparse\n",
    "import matplotlib.pyplot as plt\n",
    "import math\n",
    "import numpy as np\n",
    "from itertools import product\n",
    "from scipy.stats import binom\n",
    "sys.path.append(os.path.abspath('./lib'))\n",
    "from bcemetricspy import bce_lp, utils\n",
    "\n",
    "parser = argparse.ArgumentParser(description=\"Robust identification in auctions!\")\n",
    "parser.add_argument(\"--num_bidders\", dest=\"num_bidders\", type=int, help='Number of bidders', default=2)\n",
    "parser.add_argument(\"--max_value\", dest=\"max_value\", type=int, help='Support of values {0,1,2,...,max_value}', default=20)\n",
    "parser.add_argument(\"--num_samples\", dest=\"num_samples\", type=int, help='Upper bound on BCE support size', default=100)\n",
    "parser.add_argument(\"--max_trials\", dest=\"max_trials\", type=int, help='Maximum trials for BCE computation', default=20)\n",
    "parser.add_argument(\"--random_seed\", dest=\"random_seed\", type=int, help='Random seed', default=1234)\n",
    "parser.add_argument(\"--tolerance\", dest=\"tolerance\", type=float, help='Tolerance in best response constraints', default=0.0001)\n",
    "parser.add_argument(\"--value_pdf_type\", dest=\"value_pdf_type\", \n",
    "                    type=str, help='Value distribution: {binom, uniform, random}', default='binom')\n",
    "opts = parser.parse_args(\"\")\n",
    "\n",
    "num_bidders = opts.num_bidders\n",
    "max_value = opts.max_value"
   ]
  },
  {
   "cell_type": "code",
   "execution_count": 130,
   "metadata": {
    "collapsed": false
   },
   "outputs": [
    {
     "data": {
      "image/png": "[encoded data removed]",
      "text/plain": [
       "<matplotlib.figure.Figure at 0x2910c201080>"
      ]
     },
     "metadata": {},
     "output_type": "display_data"
    }
   ],
   "source": [
    "# Common value distribution\n",
    "value_pdf = {\n",
    "    'binom': np.ndarray.flatten(\n",
    "        binom(n=max_value, p=.5).pmf([list(range(0, max_value + 1))])),\n",
    "    'random': np.ndarray.flatten(np.abs(np.random.standard_normal(max_value + 1))),\n",
    "    'uniform': np.ones(max_value + 1)\n",
    "}.get(opts.value_pdf_type, np.abs(np.ndarray.flatten(np.random.standard_normal(max_value + 1))))\n",
    "value_pdf = value_pdf / np.sum(value_pdf)\n",
    "\n",
    "plt.plot(value_pdf)\n",
    "plt.title(\"PDF of distribution of common value\")\n",
    "plt.show()"
   ]
  },
  {
   "cell_type": "markdown",
   "metadata": {},
   "source": [
    "# Computing a BCE\n",
    "We first compute a BCE for the given value distribution $\\pi$. This is done by solving the following LP for $\\phi$:\n",
    "\n",
    "\\begin{align}\n",
    "LP(\\phi,\\pi) ~~~&~~~ \\forall b_i^*,b_i'\\in B:~& & \\sum_{v\\in V,~ {\\bf b}\\in B^n: b_i = b_i^*} \\pi(v) \\cdot x({\\bf b} | v)\\cdot \\left(u_i({\\bf b};v)-u_i(b_i',{\\bf b}_{-i};v)\\right) \\geq 0\\\\\n",
    "~~~&~~~ \\forall {\\bf b}\\in B^n:~& & \\phi({\\bf b}) = \\sum_{v\\in V} \\pi(v)\\cdot x({\\bf b}|v)\\\\\n",
    "~~~&~~~ \\forall v\\in V:~& & x(\\cdot|v) \\in \\Delta(B^n)\n",
    "\\end{align}\n",
    "\n",
    "Apart from these constraints we will attempt to compute a BCE supported on a small subset of the bid vectors to decrease computation. This is based on the num_samples parameter."
   ]
  },
  {
   "cell_type": "code",
   "execution_count": 131,
   "metadata": {
    "collapsed": false
   },
   "outputs": [],
   "source": [
    "# Compute an observed bid distribution from some BCE\n",
    "bid_pdf = bce_lp.compute_bce(num_bidders, max_value,\n",
    "                             value_pdf, num_samples=opts.num_samples,\n",
    "                             max_trials=opts.max_trials, random_seed=opts.random_seed)"
   ]
  },
  {
   "cell_type": "code",
   "execution_count": 132,
   "metadata": {
    "collapsed": false
   },
   "outputs": [
    {
     "data": {
      "image/png": "[encoded data removed]",
      "text/plain": [
       "<matplotlib.figure.Figure at 0x2910c162630>"
      ]
     },
     "metadata": {},
     "output_type": "display_data"
    }
   ],
   "source": [
    "# Plot PDF of joint bid distribution\n",
    "plt.figure()\n",
    "joint_bid_dist = np.zeros((max_value + 1, max_value + 1))\n",
    "for key in bid_pdf.keys():\n",
    "    joint_bid_dist[int(key[0])][int(key[1])] = bid_pdf[key]\n",
    "plt.imshow(joint_bid_dist, extent=(0, max_value, max_value, 0), interpolation='nearest')\n",
    "plt.colorbar()\n",
    "plt.xlabel(\"Bidder 2\")\n",
    "plt.ylabel(\"Bidder 1\")\n",
    "plt.title(\"PDF of Joint BCE Bid Distribution\")\n",
    "plt.show()"
   ]
  },
  {
   "cell_type": "markdown",
   "metadata": {},
   "source": [
    "# Non-Parametric Sharp Identified Set on Moments\n",
    "\n",
    "We now compute the upper and lower bound on the first two moments of the common value distribution, given that we observe the BCE distribution of bids. These functions solve two linear programs of the form:\n",
    "\n",
    "\\begin{align}\n",
    "~~~&~~~ ~& \\min/\\max_{\\pi} ~& \\sum_{v\\in V} \\pi(v) \\cdot m(v)\\\\\n",
    "~~~&~~~ \\forall b_i^*,b_i'\\in B:~& & \\sum_{v\\in V,~ {\\bf b}\\in S: b_i = b_i^*} \\phi({\\bf b}) \\cdot x(v ~|~ {\\bf b})\\cdot \\left(u_i\\left({\\bf b};v\\right)-u_i(b_i',{\\bf b}_{-i};v)\\right) \\geq 0\\\\\n",
    "~~~&~~~ \\forall v\\in V:~& & \\pi(v) = \\sum_{{\\bf b}\\in S} \\phi({\\bf b})\\cdot x(v|{\\bf b})\\\\\n",
    "~~~&~~~ \\forall {\\bf b}\\in S:~& & x(\\cdot~|~{\\bf b}) \\in \\Delta(V)\n",
    "\\end{align}\n",
    "\n",
    "We also compute below loose upper and lower bounds on the mean. The upper bound is based on the work of Bergemann et al 2017 and the lower bound is simply the revenue of the observed BCE. "
   ]
  },
  {
   "cell_type": "code",
   "execution_count": 133,
   "metadata": {
    "collapsed": false
   },
   "outputs": [
    {
     "name": "stderr",
     "output_type": "stream",
     "text": [
      "C:\\ProgramData\\Anaconda3\\lib\\site-packages\\pulp-1.6.3-py3.6.egg\\pulp\\pulp.py:1335: UserWarning: Overwriting previously set objective.\n",
      "  warnings.warn(\"Overwriting previously set objective.\")\n"
     ]
    }
   ],
   "source": [
    "# Compute a sharp identified set on the mean and second moment\n",
    "non_param_lb_mean, non_param_ub_mean = bce_lp.inverse_bce(\n",
    "    num_bidders, max_value, bid_pdf, utils.first_moment, tolerance=opts.tolerance)\n",
    "\n",
    "non_param_lb_var, non_param_ub_var = bce_lp.inverse_bce(\n",
    "    num_bidders, max_value, bid_pdf, utils.second_moment)"
   ]
  },
  {
   "cell_type": "code",
   "execution_count": 134,
   "metadata": {
    "collapsed": false
   },
   "outputs": [
    {
     "data": {
      "text/markdown": [
       "#### NON-PARAMETRIC IDENTIFICATION RESULTS"
      ],
      "text/plain": [
       "<IPython.core.display.Markdown object>"
      ]
     },
     "metadata": {},
     "output_type": "display_data"
    },
    {
     "data": {
      "text/markdown": [
       "- Interval on mean: (8.7191, 10.602). True value of mean: 10.0"
      ],
      "text/plain": [
       "<IPython.core.display.Markdown object>"
      ]
     },
     "metadata": {},
     "output_type": "display_data"
    },
    {
     "data": {
      "text/markdown": [
       "- Interval on second moment: (83.75, 212.03). True second moment: 105.0"
      ],
      "text/plain": [
       "<IPython.core.display.Markdown object>"
      ]
     },
     "metadata": {},
     "output_type": "display_data"
    },
    {
     "data": {
      "text/markdown": [
       "- Inferred Standard deviation: (0.0,11.587). True standard deviation: 2.2361"
      ],
      "text/plain": [
       "<IPython.core.display.Markdown object>"
      ]
     },
     "metadata": {},
     "output_type": "display_data"
    },
    {
     "data": {
      "text/markdown": [
       "- Revenue of BCE (lower bound on mean): 8.63"
      ],
      "text/plain": [
       "<IPython.core.display.Markdown object>"
      ]
     },
     "metadata": {},
     "output_type": "display_data"
    },
    {
     "data": {
      "text/markdown": [
       "- BBM upper bound on mean: 17.645"
      ],
      "text/plain": [
       "<IPython.core.display.Markdown object>"
      ]
     },
     "metadata": {},
     "output_type": "display_data"
    }
   ],
   "source": [
    "# Print results\n",
    "true_mean = np.dot(value_pdf, [utils.first_moment(v) for v in range(max_value + 1)])\n",
    "true_var = np.dot(value_pdf, [utils.second_moment(v) for v in range(max_value + 1)])\n",
    "revenue = sum([max(bids) * bid_pdf[bids] for bids in bid_pdf])\n",
    "easy_bound = utils.brooks_bound(num_bidders, max_value, bid_pdf)\n",
    "\n",
    "from IPython.display import display, Markdown, Latex\n",
    "display(Markdown('#### NON-PARAMETRIC IDENTIFICATION RESULTS'))\n",
    "display(Markdown(\"- Interval on mean: ({:.5}, {:.5}). True value of mean: {:.5}\"\n",
    "                 .format(non_param_lb_mean, non_param_ub_mean, true_mean)))\n",
    "display(Markdown(\"- Interval on second moment: ({:.5}, {:.5}). True second moment: {:.5}\"\n",
    "                 .format(non_param_lb_var, non_param_ub_var, true_var)))\n",
    "display(Markdown(\"- Inferred Standard deviation: ({:.5},{:.5}). True standard deviation: {:.5}\".format(\n",
    "    math.sqrt(max([lb_var - ub_mean**2, 0])),\n",
    "    math.sqrt(ub_var - lb_mean**2),\n",
    "    math.sqrt(true_var - true_mean**2))))\n",
    "display(Markdown(\"- Revenue of BCE (lower bound on mean): {:.3}\".format(revenue)))\n",
    "display(Markdown(\"- BBM upper bound on mean: {:.5}\".format(easy_bound)))"
   ]
  },
  {
   "cell_type": "markdown",
   "metadata": {},
   "source": [
    "# Parametric Identified Set\n",
    "\n",
    "We now assume that the value distribution follows a parametric form. For simplicity here we consider a binomial distribution $B(n,p)$ with a known $n$, but unknown $p$. The parameter is then simply $p$. We construct the parametric identified set by going over a grid of this parameter and checking feasibility of the LP:\n",
    "\n",
    "\\begin{align}\n",
    "~~~&~~~ \\forall b_i^*,b_i'\\in B:~& & \\sum_{v\\in V,~ {\\bf b}\\in S: b_i = b_i^*} \\phi({\\bf b}) \\cdot x(v ~|~ {\\bf b})\\cdot \\left(u_i\\left({\\bf b};v\\right)-u_i(b_i',{\\bf b}_{-i};v)\\right) \\geq 0\\\\\n",
    "~~~&~~~ \\forall v\\in V:~& & \\pi(v; p) = \\sum_{{\\bf b}\\in S} \\phi({\\bf b})\\cdot x(v|{\\bf b})\\\\\n",
    "~~~&~~~ \\forall {\\bf b}\\in S:~& & x(\\cdot~|~{\\bf b}) \\in \\Delta(V)\n",
    "\\end{align}\n",
    "\n",
    "where now the only free variables are the $x$, since $\\pi(v;p)$ is determined by the parametric form. In fact, instead of checking feasibility, we instead compute the minimum violation of the constraints, i.e. the minimum $\\tau$ such that all constraints are violated by at most $\\tau$. We can then use this minimum violation for computing uncertainty sets for finite sample inference."
   ]
  },
  {
   "cell_type": "markdown",
   "metadata": {},
   "source": [
    "### Capped-Normal Parametric Form"
   ]
  },
  {
   "cell_type": "code",
   "execution_count": 151,
   "metadata": {
    "collapsed": false
   },
   "outputs": [],
   "source": [
    "# Parametric sharp identified set under a capped-normal parametric form\n",
    "def normal_cdf(mu, sigma):\n",
    "    density = np.array([np.exp(-(v - mu)**2 / (2 * sigma**2)) for v in range(max_value + 1)])\n",
    "    density = density / np.sum(density)\n",
    "    return density\n",
    "\n",
    "# Grid of mu and sigma\n",
    "mu_grid = np.arange(1, opts.max_value, 1)\n",
    "sigma_grid = np.arange(1, opts.max_value, 1)\n",
    "# Matrix of minimum constraint violations\n",
    "tol_matrix = np.zeros((len(mu_grid), len(sigma_grid)))\n",
    "# Go over grid\n",
    "for i, j in product(*[range(len(mu_grid)), range(len(sigma_grid))]):\n",
    "    # Solve parametric LP for these pararameters\n",
    "    tol_matrix[i, j] = bce_lp.inverse_bce_parameterized_sparse_min_tolerance(\n",
    "            num_bidders, max_value, bid_pdf, utils.first_moment, normal_cdf(mu_grid[i], sigma_grid[j]), solver_str='COIN')"
   ]
  },
  {
   "cell_type": "code",
   "execution_count": 152,
   "metadata": {
    "collapsed": false
   },
   "outputs": [
    {
     "data": {
      "image/png": "[encoded data removed]",
      "text/plain": [
       "<matplotlib.figure.Figure at 0x29106bed860>"
      ]
     },
     "metadata": {},
     "output_type": "display_data"
    }
   ],
   "source": [
    "# Plot the identified set of mu,sigma\n",
    "plt.figure(figsize=(20,5))\n",
    "plt.subplot(1,3,1)\n",
    "plt.imshow(tol_matrix, extent=(np.min(sigma_grid), np.max(sigma_grid), np.max(mu_grid), np.min(mu_grid)), interpolation='nearest')\n",
    "plt.colorbar()\n",
    "plt.xlabel(\"Sigma\")\n",
    "plt.ylabel(\"Mu\")\n",
    "plt.title(\"Violation of LP constraints for each parameter\")\n",
    "plt.subplot(1,3,2)\n",
    "plt.imshow(tol_matrix==0, extent=(np.min(sigma_grid), np.max(sigma_grid), np.max(mu_grid), np.min(mu_grid)), interpolation='nearest')\n",
    "plt.colorbar()\n",
    "plt.xlabel(\"Sigma\")\n",
    "plt.ylabel(\"Mu\")\n",
    "plt.title(\"Identified set: set of parameters with zero violation\")\n",
    "plt.show()"
   ]
  },
  {
   "cell_type": "code",
   "execution_count": 153,
   "metadata": {
    "collapsed": false
   },
   "outputs": [
    {
     "data": {
      "text/markdown": [
       "#### PARAMETRIC IDENTIFICATION RESULTS"
      ],
      "text/plain": [
       "<IPython.core.display.Markdown object>"
      ]
     },
     "metadata": {},
     "output_type": "display_data"
    },
    {
     "data": {
      "text/markdown": [
       "- Parametric-Based Interval on mean: (8.7465, 10.595).                 True value of mean: 10.0"
      ],
      "text/plain": [
       "<IPython.core.display.Markdown object>"
      ]
     },
     "metadata": {},
     "output_type": "display_data"
    }
   ],
   "source": [
    "# Compute upper and lower bounds on the mean based on the parametric identified set\n",
    "parametric_lb_mean = 10**6\n",
    "parametric_ub_mean = 0\n",
    "for i, j in product(*[range(len(mu_grid)), range(len(sigma_grid))]):\n",
    "    if  tol_matrix[i][j] <= 0:\n",
    "        mean = np.dot(normal_cdf(mu_grid[i], sigma_grid[j]), np.arange(max_value+1))\n",
    "        if mean <= parametric_lb_mean:\n",
    "            parametric_lb_mean = mean\n",
    "        if mean >= parametric_ub_mean:\n",
    "            parametric_ub_mean = mean\n",
    "\n",
    "from IPython.display import display, Markdown, Latex\n",
    "display(Markdown('#### PARAMETRIC IDENTIFICATION RESULTS'))\n",
    "display(Markdown(\"- Parametric-Based Interval on mean: ({:.5}, {:.5}).\\\n",
    "                 True value of mean: {:.5}\".format(parametric_lb_mean, parametric_ub_mean, true_mean)))"
   ]
  },
  {
   "cell_type": "markdown",
   "metadata": {},
   "source": [
    "### Binomial Parametric Form"
   ]
  },
  {
   "cell_type": "code",
   "execution_count": 159,
   "metadata": {
    "collapsed": false
   },
   "outputs": [
    {
     "data": {
      "text/markdown": [
       "#### PARAMETRIC IDENTIFICATION RESULTS"
      ],
      "text/plain": [
       "<IPython.core.display.Markdown object>"
      ]
     },
     "metadata": {},
     "output_type": "display_data"
    },
    {
     "data": {
      "text/markdown": [
       "- Parametric-Based Interval on mean: (10.0, 10.2).                 True value of mean: 10.0"
      ],
      "text/plain": [
       "<IPython.core.display.Markdown object>"
      ]
     },
     "metadata": {},
     "output_type": "display_data"
    }
   ],
   "source": [
    "# Parametric sharp identified set under a binomial parametric form\n",
    "def parametric_cdf(param):\n",
    "    density = np.ndarray.flatten(binom(n=max_value, p=param).pmf([list(range(0, max_value + 1))]))\n",
    "    density = density / np.sum(density)\n",
    "    return density\n",
    "\n",
    "# Grid of p\n",
    "param_grid = np.arange(0.1, 1, 0.01)\n",
    "# Matrix of minimum constraint violations\n",
    "tol_matrix = np.zeros(len(param_grid))\n",
    "# Go over grid\n",
    "parametric_lb_mean = 10**6\n",
    "parametric_ub_mean = 0\n",
    "for i in range(len(param_grid)):\n",
    "    # Solve parametric LP for these pararameters\n",
    "    tol_matrix[i] = bce_lp.inverse_bce_parameterized_sparse_min_tolerance(\n",
    "            num_bidders, max_value, bid_pdf, utils.first_moment, parametric_cdf(param_grid[i]), solver_str='COIN')\n",
    "    if tol_matrix[i] <= 0:\n",
    "        mean = np.dot(parametric_cdf(param_grid[i]), np.arange(max_value+1))\n",
    "        if mean <= parametric_lb_mean:\n",
    "            parametric_lb_mean = mean\n",
    "        if mean >= parametric_ub_mean:\n",
    "            parametric_ub_mean = mean\n",
    "\n",
    "\n",
    "from IPython.display import display, Markdown, Latex\n",
    "display(Markdown('#### PARAMETRIC IDENTIFICATION RESULTS'))\n",
    "display(Markdown(\"- Parametric-Based Interval on mean: ({:.5}, {:.5}).\\\n",
    "                 True value of mean: {:.5}\".format(parametric_lb_mean, parametric_ub_mean, true_mean)))"
   ]
  },
  {
   "cell_type": "code",
   "execution_count": 178,
   "metadata": {
    "collapsed": false
   },
   "outputs": [
    {
     "data": {
      "image/png": "[encoded data removed]",
      "text/plain": [
       "<matplotlib.figure.Figure at 0x2910ccd75c0>"
      ]
     },
     "metadata": {},
     "output_type": "display_data"
    }
   ],
   "source": [
    "# Plot the identified set of mu,sigma\n",
    "plt.figure(figsize=(20,5))\n",
    "plt.rc('text', usetex=True)\n",
    "plt.subplot(1,3,1)\n",
    "plt.imshow(tol_matrix.reshape(1,-1), extent=(np.min(param_grid), np.max(param_grid), 0, .1), interpolation='nearest')\n",
    "plt.colorbar()\n",
    "plt.xlabel(r\"$p$\")\n",
    "plt.gca().axes.get_yaxis().set_visible(False)\n",
    "plt.title(\"Violation of LP constraints for each parameter\")\n",
    "plt.subplot(1,3,2)\n",
    "plt.rc('text', usetex=True)\n",
    "plt.imshow(tol_matrix.reshape(1,-1)==0,  extent=(np.min(param_grid), np.max(param_grid), 0, .1), interpolation='nearest')\n",
    "plt.xlabel(\"$p$\")\n",
    "plt.title(\"Identified set: set of parameters with zero violation\")\n",
    "plt.gca().axes.get_yaxis().set_visible(False)\n",
    "plt.show()"
   ]
  }
 ],
 "metadata": {
  "kernelspec": {
   "display_name": "Python 3",
   "language": "python",
   "name": "python3"
  },
  "language_info": {
   "codemirror_mode": {
    "name": "ipython",
    "version": 3
   },
   "file_extension": ".py",
   "mimetype": "text/x-python",
   "name": "python",
   "nbconvert_exporter": "python",
   "pygments_lexer": "ipython3",
   "version": "3.6.0"
  }
 },
 "nbformat": 4,
 "nbformat_minor": 2
}
